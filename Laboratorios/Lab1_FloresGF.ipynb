{
  "cells": [
    {
      "cell_type": "code",
      "execution_count": 41,
      "metadata": {
        "id": "mEs6mnYIegWA"
      },
      "outputs": [],
      "source": [
        "# from google.colab import drive\n",
        "# drive.mount('/content/gdrive/')"
      ]
    },
    {
      "cell_type": "code",
      "execution_count": 42,
      "metadata": {
        "id": "8MzZ7atMhWHV"
      },
      "outputs": [],
      "source": [
        "# import sys\n",
        "# sys.path.append('/content/gdrive/MyDrive/Colab Notebooks/SIS420/Busquedas')\n",
        "                 \n",
        "# from Nodos import Nodo"
      ]
    },
    {
      "cell_type": "code",
      "execution_count": 43,
      "metadata": {
        "id": "6Y9lmsZjsDkj"
      },
      "outputs": [],
      "source": [
        "class Nodo:\n",
        "    def __init__(self, estado, hijo=None):\n",
        "        self.estado = estado\n",
        "        self.hijo = None\n",
        "        self.padre = None\n",
        "        self.accion = None\n",
        "        self.acciones = None\n",
        "        self.costo = None\n",
        "        self.set_hijo(hijo)\n",
        "\n",
        "    def set_estado(self, estado):\n",
        "        self.estado = estado\n",
        "\n",
        "    def get_estado(self):\n",
        "        return self.estado\n",
        "\n",
        "    def set_hijo(self, hijo):\n",
        "        self.hijo = hijo\n",
        "        if self.hijo is not None:\n",
        "            for s in self.hijo:\n",
        "                s.padre = self\n",
        "\n",
        "    def get_hijo(self):\n",
        "        return self.hijo\n",
        "    \n",
        "    def set_padre(self, padre):\n",
        "        self.padre = padre\n",
        "\n",
        "    def get_padre(self):\n",
        "        return self.padre\n",
        "    \n",
        "    def set_accion(self, accion):\n",
        "        self.accion = accion\n",
        "\n",
        "    def get_accion(self):\n",
        "        return self.accion\n",
        "\n",
        "    def set_acciones(self, acciones):\n",
        "        self.acciones = acciones\n",
        "\n",
        "    def get_acciones(self):\n",
        "        return self.acciones\n",
        "\n",
        "    def set_costo(self, costo):\n",
        "        self.costo = costo\n",
        "\n",
        "    def get_costo(self):\n",
        "        return self.costo\n",
        "\n",
        "    def equal(self, Nodo):\n",
        "        if self.get_estado() == Nodo.get_estado():\n",
        "            return True\n",
        "        else:\n",
        "            return False\n",
        "\n",
        "    def en_lista(self, lista_nodos):\n",
        "        enlistado = False\n",
        "        for n in lista_nodos:\n",
        "            if self.equal(n):\n",
        "                enlistado = True\n",
        "        return enlistado\n",
        "\n",
        "    def __str__(self):\n",
        "        return str(self.get_estado())"
      ]
    },
    {
      "cell_type": "code",
      "execution_count": 44,
      "metadata": {
        "colab": {
          "base_uri": "https://localhost:8080/"
        },
        "id": "9D_tV0w3fhWl",
        "outputId": "a6b5f815-e462-4596-a4a1-d583259ffbef"
      },
      "outputs": [
        {
          "name": "stdout",
          "output_type": "stream",
          "text": [
            "[[0, 1, 2, 3, 6, 5, 4, 9, 7, 8], [1, 0, 2, 3, 6, 5, 4, 9, 7, 8], [1, 0, 2, 3, 5, 6, 4, 9, 7, 8], [1, 0, 2, 3, 5, 4, 6, 9, 7, 8], [1, 0, 2, 3, 4, 5, 6, 9, 7, 8], [1, 0, 2, 3, 4, 5, 6, 7, 9, 8], [0, 1, 2, 3, 4, 5, 6, 7, 8, 9]]\n"
          ]
        }
      ],
      "source": [
        "def busqueda_BPA_solucion(estado_inicial, solucion):\n",
        "    resuelto = False\n",
        "    nodos_visitados = []\n",
        "    nodos_frontera = []\n",
        "\n",
        "    nodo_raiz = Nodo(estado_inicial)\n",
        "    nodos_frontera.append(nodo_raiz)\n",
        "    while (not resuelto) and len(nodos_frontera) != 0:\n",
        "        nodo_actual = nodos_frontera.pop(0)\n",
        "        # extraer nodo y añadirlo a visitados\n",
        "        nodos_visitados.append(nodo_actual)\n",
        "        if nodo_actual.get_estado() == solucion:\n",
        "            # solucion encontrada\n",
        "            resuelto = True\n",
        "            return nodo_actual\n",
        "        else:\n",
        "            # expandir nodos hijo\n",
        "            estado_nodo = nodo_actual.get_estado()\n",
        "\n",
        "            # operador 1 (Accion uno, intercambiar la posicion 0 con la 1 del estado)\n",
        "            # hijo = [estado_nodo[1], estado_nodo[0], estado_nodo[2], estado_nodo[3], estado_nodo[4]]\n",
        "            hijo = [estado_nodo[1], estado_nodo[0], estado_nodo[2], estado_nodo[3], estado_nodo[4], estado_nodo[5], estado_nodo[6], estado_nodo[7], estado_nodo[8], estado_nodo[9]]\n",
        "            hijo_1 = Nodo(hijo)\n",
        "            if not hijo_1.en_lista(nodos_visitados) and not hijo_1.en_lista(nodos_frontera):\n",
        "                nodos_frontera.append(hijo_1)\n",
        "\n",
        "            # operador 2 (Accion uno, intercambiar la posicion 1 con la 2 del estado)\n",
        "            # hijo = [estado_nodo[0], estado_nodo[2], estado_nodo[1], estado_nodo[3], estado_nodo[4]]\n",
        "            hijo = [estado_nodo[0], estado_nodo[2], estado_nodo[1], estado_nodo[3], estado_nodo[4], estado_nodo[5], estado_nodo[6], estado_nodo[7], estado_nodo[8], estado_nodo[9]]\n",
        "            hijo_2 = Nodo(hijo)\n",
        "            if not hijo_2.en_lista(nodos_visitados) and not hijo_2.en_lista(nodos_frontera):\n",
        "                nodos_frontera.append(hijo_2)\n",
        "\n",
        "            # operador 3 (Accion uno, intercambiar la posicion 2 con la 3 del estado)\n",
        "            # hijo = [estado_nodo[0], estado_nodo[1], estado_nodo[3], estado_nodo[2], estado_nodo[4]]\n",
        "            hijo = [estado_nodo[0], estado_nodo[1], estado_nodo[3], estado_nodo[2], estado_nodo[4], estado_nodo[5], estado_nodo[6], estado_nodo[7], estado_nodo[8], estado_nodo[9]]\n",
        "            hijo_3 = Nodo(hijo)\n",
        "            if not hijo_3.en_lista(nodos_visitados) and not hijo_3.en_lista(nodos_frontera):\n",
        "                nodos_frontera.append(hijo_3)\n",
        "\n",
        "\n",
        "            hijo = [estado_nodo[0], estado_nodo[1], estado_nodo[2], estado_nodo[4], estado_nodo[3], estado_nodo[5], estado_nodo[6], estado_nodo[7], estado_nodo[8], estado_nodo[9]]\n",
        "            hijo_4 = Nodo(hijo)\n",
        "            if not hijo_4.en_lista(nodos_visitados) and not hijo_4.en_lista(nodos_frontera):\n",
        "                nodos_frontera.append(hijo_4)\n",
        "\n",
        "            hijo = [estado_nodo[0], estado_nodo[1], estado_nodo[2], estado_nodo[3], estado_nodo[5], estado_nodo[4], estado_nodo[6], estado_nodo[7], estado_nodo[8], estado_nodo[9]]\n",
        "            hijo_5 = Nodo(hijo)\n",
        "            if not hijo_5.en_lista(nodos_visitados) and not hijo_5.en_lista(nodos_frontera):\n",
        "                nodos_frontera.append(hijo_5)\n",
        "            \n",
        "            hijo = [estado_nodo[0], estado_nodo[1], estado_nodo[2], estado_nodo[3], estado_nodo[4], estado_nodo[6], estado_nodo[5], estado_nodo[7], estado_nodo[8], estado_nodo[9]]\n",
        "            hijo_6 = Nodo(hijo)\n",
        "            if not hijo_6.en_lista(nodos_visitados) and not hijo_6.en_lista(nodos_frontera):\n",
        "                nodos_frontera.append(hijo_6)\n",
        "\n",
        "            hijo = [estado_nodo[0], estado_nodo[1], estado_nodo[2], estado_nodo[3], estado_nodo[4], estado_nodo[5], estado_nodo[7], estado_nodo[6], estado_nodo[8], estado_nodo[9]]\n",
        "            hijo_7 = Nodo(hijo)\n",
        "            if not hijo_7.en_lista(nodos_visitados) and not hijo_7.en_lista(nodos_frontera):\n",
        "                nodos_frontera.append(hijo_7)\n",
        "\n",
        "            hijo = [estado_nodo[0], estado_nodo[1], estado_nodo[2], estado_nodo[3], estado_nodo[4], estado_nodo[5], estado_nodo[6], estado_nodo[8], estado_nodo[7], estado_nodo[9]]\n",
        "            hijo_8 = Nodo(hijo)\n",
        "            if not hijo_8.en_lista(nodos_visitados) and not hijo_8.en_lista(nodos_frontera):\n",
        "                nodos_frontera.append(hijo_8)\n",
        "\n",
        "\n",
        "            hijo = [estado_nodo[1], estado_nodo[0], estado_nodo[2], estado_nodo[3], estado_nodo[4], estado_nodo[5], estado_nodo[6], estado_nodo[7], estado_nodo[9], estado_nodo[8]]\n",
        "            hijo_9 = Nodo(hijo)\n",
        "            if not hijo_9.en_lista(nodos_visitados) and not hijo_9.en_lista(nodos_frontera):\n",
        "                nodos_frontera.append(hijo_9)\n",
        "            # operador 4\n",
        "            # hijo = [estado_nodo[0], estado_nodo[1], estado_nodo[2], estado_nodo[4], estado_nodo[3]]\n",
        "            # hijo_4 = Nodo(hijo)\n",
        "            # if not hijo_4.en_lista(nodos_visitados) and not hijo_4.en_lista(nodos_frontera):\n",
        "            #     nodos_frontera.append(hijo_4)\n",
        "\n",
        "\n",
        "            # nodo_actual.set_hijo([hijo_1, hijo_2, hijo_3, hijo_4])\n",
        "            nodo_actual.set_hijo([hijo_1, hijo_2, hijo_3, hijo_4, hijo_5, hijo_6, hijo_7, hijo_8,hijo_9] )\n",
        "\n",
        "\n",
        "if __name__ == \"__main__\":\n",
        "    estado_inicial = [0, 1, 2, 3, 6,5, 4, 9, 7, 8]\n",
        "    solucion = [0, 1, 2, 3, 4, 5, 6, 7, 8, 9]\n",
        "    nodo_solucion = busqueda_BPA_solucion(estado_inicial, solucion)\n",
        "    # mostrar resultado\n",
        "    resultado = []\n",
        "    nodo_actual = nodo_solucion\n",
        "    while nodo_actual.get_padre() is not None:\n",
        "        resultado.append(nodo_actual.get_estado())\n",
        "        nodo_actual = nodo_actual.get_padre()\n",
        "\n",
        "    resultado.append(estado_inicial)\n",
        "    resultado.reverse()\n",
        "    print(resultado)"
      ]
    }
  ],
  "metadata": {
    "colab": {
      "provenance": []
    },
    "kernelspec": {
      "display_name": "Python 3",
      "language": "python",
      "name": "python3"
    },
    "language_info": {
      "codemirror_mode": {
        "name": "ipython",
        "version": 3
      },
      "file_extension": ".py",
      "mimetype": "text/x-python",
      "name": "python",
      "nbconvert_exporter": "python",
      "pygments_lexer": "ipython3",
      "version": "3.11.2"
    },
    "vscode": {
      "interpreter": {
        "hash": "3c20bee098c83b63089bd1198b547269729e62d7ae1681b6e7594745e52b060d"
      }
    }
  },
  "nbformat": 4,
  "nbformat_minor": 0
}
