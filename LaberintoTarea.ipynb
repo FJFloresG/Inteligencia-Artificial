{
  "nbformat": 4,
  "nbformat_minor": 0,
  "metadata": {
    "colab": {
      "provenance": []
    },
    "kernelspec": {
      "name": "python3",
      "display_name": "Python 3"
    },
    "language_info": {
      "name": "python"
    }
  },
  "cells": [
    {
      "cell_type": "code",
      "execution_count": null,
      "metadata": {
        "id": "y73sOvS0BOaa"
      },
      "outputs": [],
      "source": [
        "import random\n",
        "\n",
        "ancho = 5\n",
        "alto = 5\n",
        "tablero = []\n",
        "entradaX, entradaY = 0, 0\n",
        "actualX, actualY = 0, 0\n",
        "salidaX, salidaY = 4, 4\n",
        "camino = True"
      ]
    },
    {
      "cell_type": "code",
      "source": [
        "# Generar Matriz\n",
        "def crearTablero(tablero):\n",
        "  for i in range(0, alto):\n",
        "    tablero.append([])\n",
        "    for j in range(0, ancho):\n",
        "      tablero[i].append(\" \")\n",
        "  tablero[entradaY][entradaX] = \"X\"\n",
        "  tablero[salidaY][salidaX] = \"F\""
      ],
      "metadata": {
        "id": "r5FV9Mb0ChlE"
      },
      "execution_count": null,
      "outputs": []
    },
    {
      "cell_type": "code",
      "source": [
        "def mostrarLaberinto(tablero):\n",
        "  for fila in tablero:\n",
        "    print(fila)"
      ],
      "metadata": {
        "id": "kJGYswYDDHCH"
      },
      "execution_count": null,
      "outputs": []
    },
    {
      "cell_type": "code",
      "source": [
        "\n",
        "def generarLaberinto(tablero, alto, ancho):\n",
        "  for i in range(0, alto):  \n",
        "    for j in range(0, ancho):\n",
        "      if(tablero[i][j] == \" \"):\n",
        "        tablero[i][j] = random.randint(0, 1)"
      ],
      "metadata": {
        "id": "lQwv2DiQEkWb"
      },
      "execution_count": null,
      "outputs": []
    },
    {
      "cell_type": "code",
      "source": [
        "#mostrarLaberinto(tablero)"
      ],
      "metadata": {
        "id": "SdDxrmr-FEfM"
      },
      "execution_count": null,
      "outputs": []
    },
    {
      "cell_type": "code",
      "source": [
        "#crearTablero(tablero)\n",
        "#generarLaberinto(tablero, alto, ancho)\n",
        "#mostrarLaberinto(tablero)"
      ],
      "metadata": {
        "id": "azox3rL4RTCT"
      },
      "execution_count": null,
      "outputs": []
    },
    {
      "cell_type": "code",
      "source": [
        "def construir(actualX, actualY, camino):\n",
        "  while camino:\n",
        "    paso = random.randint(0,3)\n",
        "    # paso = 2\n",
        "    # 0 - arriba\n",
        "    # 1 - abajo\n",
        "    # 2 - derecha\n",
        "    # 3 - izquierda\n",
        "\n",
        "    if paso == 0:\n",
        "      if actualY > 0:\n",
        "        if tablero[actualY-1][actualX] == \" \":\n",
        "          actualY = actualY - 1\n",
        "          tablero[actualY][actualX] = \"C\"\n",
        "          if actualX != 0 and tablero[actualY+1][actualX-1] == \" \":\n",
        "            tablero[actualY+1][actualX-1] = \"1\"\n",
        "          if actualX != 4 and tablero[actualY+1][actualX+1] == \" \":\n",
        "            tablero[actualY+1][actualX+1] = \"1\"\n",
        "    elif paso == 1:\n",
        "      if actualY < 4:\n",
        "        if tablero[actualY+1][actualX] == \" \":\n",
        "          actualY = actualY + 1\n",
        "          tablero[actualY][actualX] = \"C\"\n",
        "          if actualX != 0 and tablero[actualY-1][actualX-1] == \" \":\n",
        "            tablero[actualY-1][actualX-1] = \"1\"\n",
        "          if actualX != 4 and tablero[actualY-1][actualX+1] == \" \":\n",
        "            tablero[actualY-1][actualX+1] = \"1\"\n",
        "    elif paso == 2:\n",
        "      if actualX < 4:\n",
        "        if tablero[actualY][actualX+1] == \" \":\n",
        "          actualX = actualX + 1\n",
        "          tablero[actualY][actualX] = \"C\"\n",
        "          if actualY != 0 and tablero[actualY-1][actualX-1] == \" \":\n",
        "            tablero[actualY-1][actualX-1] = \"1\"\n",
        "          if actualY != 4 and tablero[actualY+1][actualX-1] == \" \":\n",
        "            tablero[actualY+1][actualX-1] = \"1\"\n",
        "    elif paso == 3:\n",
        "      if actualX > 0:\n",
        "        if tablero[actualY][actualX-1] == \" \":\n",
        "          actualX = actualX - 1\n",
        "          tablero[actualY][actualX] = \"C\"\n",
        "          if actualY != 0 and tablero[actualY-1][actualX+1] == \" \":\n",
        "            tablero[actualY-1][actualX+1] = \"1\"\n",
        "          if actualY != 4 and tablero[actualY+1][actualX+1] == \" \":\n",
        "            tablero[actualY+1][actualX+1] = \"1\"\n",
        "    camino = False\n",
        "  return actualX, actualY"
      ],
      "metadata": {
        "id": "u_cMjzwjGvqM"
      },
      "execution_count": null,
      "outputs": []
    },
    {
      "cell_type": "code",
      "source": [
        "# Establecer el punto de inicio\n",
        "crearTablero(tablero)\n",
        "mostrarLaberinto(tablero)"
      ],
      "metadata": {
        "id": "5g7esdHKIoBJ",
        "colab": {
          "base_uri": "https://localhost:8080/"
        },
        "outputId": "e91a9cc0-50d0-463d-cc1b-bb958641bb1e"
      },
      "execution_count": null,
      "outputs": [
        {
          "output_type": "stream",
          "name": "stdout",
          "text": [
            "['X', ' ', ' ', ' ', ' ']\n",
            "[' ', ' ', ' ', ' ', ' ']\n",
            "[' ', ' ', ' ', ' ', ' ']\n",
            "[' ', ' ', ' ', ' ', ' ']\n",
            "[' ', ' ', ' ', ' ', 'F']\n"
          ]
        }
      ]
    },
    {
      "cell_type": "code",
      "source": [
        "const = True\n",
        "while const:\n",
        "  actualX, actualY = construir(actualX, actualY, True)\n",
        "  mostrarLaberinto(tablero)\n",
        "  print(\"----------------------\")\n",
        "  # if actualX == salidaX-1 and actualY == salidaY-1:\n",
        "  #   const = False\n",
        "  if actualX == 4 or actualY == 4:\n",
        "    const = False"
      ],
      "metadata": {
        "colab": {
          "base_uri": "https://localhost:8080/"
        },
        "id": "hbbv3apuveLE",
        "outputId": "83ea4bda-cc9a-4f34-f7a5-43fd8b725e92"
      },
      "execution_count": null,
      "outputs": [
        {
          "output_type": "stream",
          "name": "stdout",
          "text": [
            "['X', ' ', ' ', ' ', ' ']\n",
            "[' ', ' ', ' ', ' ', ' ']\n",
            "[' ', ' ', ' ', ' ', ' ']\n",
            "[' ', ' ', ' ', ' ', ' ']\n",
            "[' ', ' ', ' ', ' ', 'F']\n",
            "----------------------\n",
            "['X', '1', ' ', ' ', ' ']\n",
            "['C', ' ', ' ', ' ', ' ']\n",
            "[' ', ' ', ' ', ' ', ' ']\n",
            "[' ', ' ', ' ', ' ', ' ']\n",
            "[' ', ' ', ' ', ' ', 'F']\n",
            "----------------------\n",
            "['X', '1', ' ', ' ', ' ']\n",
            "['C', ' ', ' ', ' ', ' ']\n",
            "[' ', ' ', ' ', ' ', ' ']\n",
            "[' ', ' ', ' ', ' ', ' ']\n",
            "[' ', ' ', ' ', ' ', 'F']\n",
            "----------------------\n",
            "['X', '1', ' ', ' ', ' ']\n",
            "['C', '1', ' ', ' ', ' ']\n",
            "['C', ' ', ' ', ' ', ' ']\n",
            "[' ', ' ', ' ', ' ', ' ']\n",
            "[' ', ' ', ' ', ' ', 'F']\n",
            "----------------------\n",
            "['X', '1', ' ', ' ', ' ']\n",
            "['C', '1', ' ', ' ', ' ']\n",
            "['C', '1', ' ', ' ', ' ']\n",
            "['C', ' ', ' ', ' ', ' ']\n",
            "[' ', ' ', ' ', ' ', 'F']\n",
            "----------------------\n",
            "['X', '1', ' ', ' ', ' ']\n",
            "['C', '1', ' ', ' ', ' ']\n",
            "['C', '1', ' ', ' ', ' ']\n",
            "['C', ' ', ' ', ' ', ' ']\n",
            "[' ', ' ', ' ', ' ', 'F']\n",
            "----------------------\n",
            "['X', '1', ' ', ' ', ' ']\n",
            "['C', '1', ' ', ' ', ' ']\n",
            "['C', '1', ' ', ' ', ' ']\n",
            "['C', ' ', ' ', ' ', ' ']\n",
            "[' ', ' ', ' ', ' ', 'F']\n",
            "----------------------\n",
            "['X', '1', ' ', ' ', ' ']\n",
            "['C', '1', ' ', ' ', ' ']\n",
            "['C', '1', ' ', ' ', ' ']\n",
            "['C', 'C', ' ', ' ', ' ']\n",
            "['1', ' ', ' ', ' ', 'F']\n",
            "----------------------\n",
            "['X', '1', ' ', ' ', ' ']\n",
            "['C', '1', ' ', ' ', ' ']\n",
            "['C', '1', ' ', ' ', ' ']\n",
            "['C', 'C', ' ', ' ', ' ']\n",
            "['1', ' ', ' ', ' ', 'F']\n",
            "----------------------\n",
            "['X', '1', ' ', ' ', ' ']\n",
            "['C', '1', ' ', ' ', ' ']\n",
            "['C', '1', ' ', ' ', ' ']\n",
            "['C', 'C', ' ', ' ', ' ']\n",
            "['1', ' ', ' ', ' ', 'F']\n",
            "----------------------\n",
            "['X', '1', ' ', ' ', ' ']\n",
            "['C', '1', ' ', ' ', ' ']\n",
            "['C', '1', ' ', ' ', ' ']\n",
            "['C', 'C', '1', ' ', ' ']\n",
            "['1', 'C', ' ', ' ', 'F']\n",
            "----------------------\n"
          ]
        }
      ]
    }
  ]
}